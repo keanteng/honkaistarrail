{
 "cells": [
  {
   "cell_type": "markdown",
   "metadata": {},
   "source": [
    "# Warp Simulation Modal 1\n",
    "> Translated from https://github.com/Jose-AE/hsr-warp-calculator/blob/main/src/utils/CalculateWarpProbability.ts\n",
    "\n",
    "## Explanation\n",
    "Character/ Light cone simulation, a random value (seed) is used in the simulation and reset each warp. There are two functions to perform simulation for the character as well as the cone banner."
   ]
  },
  {
   "cell_type": "code",
   "execution_count": 1,
   "metadata": {},
   "outputs": [],
   "source": [
    "# package imports\n",
    "import random\n",
    "\n",
    "# constants\n",
    "FIVE_STAR_CHARACTER_CHANCE = 0.006\n",
    "FIVE_STAR_CONE_CHANCE = 0.008\n",
    "CHARACTER_SOFT_PITY = 74\n",
    "CONE_SOFT_PITY = 64\n",
    "CHARACTER_PITY = 90\n",
    "CONE_PITY = 80\n",
    "LIMITED_CONE_CHANCE = 0.75\n",
    "LIMITED_CHARACTER_CHANCE = 0.5\n",
    "SOFT_PITY_INCREMENT = 0.06"
   ]
  },
  {
   "cell_type": "code",
   "execution_count": 2,
   "metadata": {},
   "outputs": [],
   "source": [
    "def calculate_char_probability(\n",
    "    warps,\n",
    "    character_pity,\n",
    "    character_guaranteed,\n",
    "    character_copies,\n",
    "    num_simulations\n",
    "):\n",
    "    successful_simulations = 0\n",
    "    \n",
    "    for _ in range(num_simulations):\n",
    "        warps_left = warps\n",
    "        char_successes = 0\n",
    "        curr_char_pity = character_pity\n",
    "        curr_character_guaranteed = character_guaranteed\n",
    "\n",
    "        while warps_left > 0:\n",
    "            random_value = random.random()\n",
    "            curr_five_star_chance = FIVE_STAR_CHARACTER_CHANCE\n",
    "\n",
    "            if char_successes < character_copies:\n",
    "                curr_five_star_chance += SOFT_PITY_INCREMENT * max(curr_char_pity - CHARACTER_SOFT_PITY, 0)\n",
    "\n",
    "                if random_value < curr_five_star_chance or curr_char_pity + 1 == CHARACTER_PITY:\n",
    "                    if curr_character_guaranteed or random.random() < LIMITED_CHARACTER_CHANCE:\n",
    "                        char_successes += 1\n",
    "\n",
    "                        if curr_character_guaranteed:\n",
    "                            curr_character_guaranteed = False\n",
    "\n",
    "                        curr_char_pity = 0\n",
    "                    else:\n",
    "                        curr_char_pity = 0\n",
    "                        curr_character_guaranteed = True\n",
    "                else:\n",
    "                    curr_char_pity += 1\n",
    "\n",
    "            warps_left -= 1\n",
    "\n",
    "        if char_successes >= character_copies:\n",
    "            successful_simulations += 1\n",
    "            \n",
    "    estimated_probability = successful_simulations / num_simulations\n",
    "    \n",
    "    return estimated_probability\n"
   ]
  },
  {
   "cell_type": "code",
   "execution_count": 3,
   "metadata": {},
   "outputs": [],
   "source": [
    "def calculate_cone_probability(\n",
    "    warps,\n",
    "    cone_pity,\n",
    "    cone_guaranteed,\n",
    "    cone_copies,\n",
    "    num_simulations\n",
    "):\n",
    "    successful_simulations = 0\n",
    "    \n",
    "    for _ in range(num_simulations):\n",
    "        warps_left = warps\n",
    "        cone_successes = 0\n",
    "        curr_cone_pity = cone_pity\n",
    "        curr_cone_guaranteed = cone_guaranteed\n",
    "\n",
    "        while warps_left > 0:\n",
    "            random_value = random.random()\n",
    "            curr_five_star_chance = FIVE_STAR_CONE_CHANCE\n",
    "\n",
    "            if cone_successes < cone_copies:\n",
    "                curr_five_star_chance += SOFT_PITY_INCREMENT * max(curr_cone_pity - CONE_SOFT_PITY, 0)\n",
    "\n",
    "                if random_value < curr_five_star_chance or curr_cone_pity + 1 == CONE_PITY:\n",
    "                    if curr_cone_guaranteed or random.random() < LIMITED_CONE_CHANCE:\n",
    "                        cone_successes += 1\n",
    "\n",
    "                        if curr_cone_guaranteed:\n",
    "                            curr_cone_guaranteed = False\n",
    "\n",
    "                        curr_cone_pity = 0\n",
    "                    else:\n",
    "                        curr_cone_pity = 0\n",
    "                        curr_cone_guaranteed = True\n",
    "                else:\n",
    "                    curr_cone_pity += 1\n",
    "\n",
    "            warps_left -= 1\n",
    "\n",
    "        if cone_successes >= cone_copies:\n",
    "            successful_simulations += 1\n",
    "            \n",
    "    estimated_probability = successful_simulations / num_simulations\n",
    "    \n",
    "    return estimated_probability"
   ]
  },
  {
   "cell_type": "code",
   "execution_count": 4,
   "metadata": {},
   "outputs": [
    {
     "name": "stdout",
     "output_type": "stream",
     "text": [
      "Estimated probability: 0.9268\n"
     ]
    }
   ],
   "source": [
    "# Example usage for character:\n",
    "warps = 160 + 262 + 88\n",
    "character_pity = 0\n",
    "character_guaranteed = False\n",
    "character_copies = 4\n",
    "num_simulations = 10000\n",
    "print(\"Estimated probability:\", calculate_char_probability(warps, character_pity, character_guaranteed, character_copies, num_simulations))"
   ]
  },
  {
   "cell_type": "code",
   "execution_count": 5,
   "metadata": {},
   "outputs": [
    {
     "name": "stdout",
     "output_type": "stream",
     "text": [
      "Estimated probability: 0.19\n"
     ]
    }
   ],
   "source": [
    "# Example usage for light cone:\n",
    "warps = 90\n",
    "character_pity = 0\n",
    "character_guaranteed = False\n",
    "character_copies = 2\n",
    "num_simulations = 1000\n",
    "print(\"Estimated probability:\", calculate_cone_probability(warps, character_pity, character_guaranteed, character_copies, num_simulations))"
   ]
  }
 ],
 "metadata": {
  "kernelspec": {
   "display_name": "Python 3",
   "language": "python",
   "name": "python3"
  },
  "language_info": {
   "codemirror_mode": {
    "name": "ipython",
    "version": 3
   },
   "file_extension": ".py",
   "mimetype": "text/x-python",
   "name": "python",
   "nbconvert_exporter": "python",
   "pygments_lexer": "ipython3",
   "version": "3.11.4"
  }
 },
 "nbformat": 4,
 "nbformat_minor": 2
}
